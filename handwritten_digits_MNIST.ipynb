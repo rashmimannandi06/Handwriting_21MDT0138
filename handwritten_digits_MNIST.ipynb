{
 "cells": [
  {
   "cell_type": "code",
   "execution_count": 101,
   "id": "aa8ee721",
   "metadata": {},
   "outputs": [],
   "source": [
    "import tensorflow as tf\n",
    "import keras\n",
    "import numpy as np\n",
    "import matplotlib.pyplot as plt\n",
    "from keras import regularizers"
   ]
  },
  {
   "cell_type": "code",
   "execution_count": 102,
   "id": "88772771",
   "metadata": {},
   "outputs": [],
   "source": [
    "data = tf.keras.datasets.mnist"
   ]
  },
  {
   "cell_type": "code",
   "execution_count": 103,
   "id": "59d09975",
   "metadata": {},
   "outputs": [],
   "source": [
    "#train-test split--downloading the dataset\n",
    "(training_images, training_labels), (test_images, test_labels) = data.load_data()"
   ]
  },
  {
   "cell_type": "code",
   "execution_count": 104,
   "id": "cc7a3087",
   "metadata": {},
   "outputs": [
    {
     "name": "stdout",
     "output_type": "stream",
     "text": [
      "(60000, 28, 28)\n",
      "(10000, 28, 28)\n"
     ]
    }
   ],
   "source": [
    "#shape of the train and the test datasets\n",
    "print(training_images.shape)\n",
    "print(test_images.shape)"
   ]
  },
  {
   "cell_type": "markdown",
   "id": "7b9a5ace",
   "metadata": {},
   "source": [
    "The above output shows for training images we have 60000 images, each of 28x28 resolution. Similarly for testing images, we have 10000 images, of the same resolution."
   ]
  },
  {
   "cell_type": "code",
   "execution_count": 105,
   "id": "92df1ec5",
   "metadata": {},
   "outputs": [
    {
     "name": "stdout",
     "output_type": "stream",
     "text": [
      "LABEL: 5\n",
      "\n",
      "IMAGE PIXEL ARRAY:\n",
      " [[  0   0   0   0   0   0   0   0   0   0   0   0   0   0   0   0   0   0   0   0   0   0   0   0   0   0   0   0]\n",
      " [  0   0   0   0   0   0   0   0   0   0   0   0   0   0   0   0   0   0   0   0   0   0   0   0   0   0   0   0]\n",
      " [  0   0   0   0   0   0   0   0   0   0   0   0   0   0   0   0   0   0   0   0   0   0   0   0   0   0   0   0]\n",
      " [  0   0   0   0   0   0   0   0   0   0   0   0   0   0   0   0   0   0   0   0   0   0   0   0   0   0   0   0]\n",
      " [  0   0   0   0   0   0   0   0   0   0   0   0   0   0   0   0   0   0   0   0   0   0   0   0   0   0   0   0]\n",
      " [  0   0   0   0   0   0   0   0   0   0   0   0   3  18  18  18 126 136 175  26 166 255 247 127   0   0   0   0]\n",
      " [  0   0   0   0   0   0   0   0  30  36  94 154 170 253 253 253 253 253 225 172 253 242 195  64   0   0   0   0]\n",
      " [  0   0   0   0   0   0   0  49 238 253 253 253 253 253 253 253 253 251  93  82  82  56  39   0   0   0   0   0]\n",
      " [  0   0   0   0   0   0   0  18 219 253 253 253 253 253 198 182 247 241   0   0   0   0   0   0   0   0   0   0]\n",
      " [  0   0   0   0   0   0   0   0  80 156 107 253 253 205  11   0  43 154   0   0   0   0   0   0   0   0   0   0]\n",
      " [  0   0   0   0   0   0   0   0   0  14   1 154 253  90   0   0   0   0   0   0   0   0   0   0   0   0   0   0]\n",
      " [  0   0   0   0   0   0   0   0   0   0   0 139 253 190   2   0   0   0   0   0   0   0   0   0   0   0   0   0]\n",
      " [  0   0   0   0   0   0   0   0   0   0   0  11 190 253  70   0   0   0   0   0   0   0   0   0   0   0   0   0]\n",
      " [  0   0   0   0   0   0   0   0   0   0   0   0  35 241 225 160 108   1   0   0   0   0   0   0   0   0   0   0]\n",
      " [  0   0   0   0   0   0   0   0   0   0   0   0   0  81 240 253 253 119  25   0   0   0   0   0   0   0   0   0]\n",
      " [  0   0   0   0   0   0   0   0   0   0   0   0   0   0  45 186 253 253 150  27   0   0   0   0   0   0   0   0]\n",
      " [  0   0   0   0   0   0   0   0   0   0   0   0   0   0   0  16  93 252 253 187   0   0   0   0   0   0   0   0]\n",
      " [  0   0   0   0   0   0   0   0   0   0   0   0   0   0   0   0   0 249 253 249  64   0   0   0   0   0   0   0]\n",
      " [  0   0   0   0   0   0   0   0   0   0   0   0   0   0  46 130 183 253 253 207   2   0   0   0   0   0   0   0]\n",
      " [  0   0   0   0   0   0   0   0   0   0   0   0  39 148 229 253 253 253 250 182   0   0   0   0   0   0   0   0]\n",
      " [  0   0   0   0   0   0   0   0   0   0  24 114 221 253 253 253 253 201  78   0   0   0   0   0   0   0   0   0]\n",
      " [  0   0   0   0   0   0   0   0  23  66 213 253 253 253 253 198  81   2   0   0   0   0   0   0   0   0   0   0]\n",
      " [  0   0   0   0   0   0  18 171 219 253 253 253 253 195  80   9   0   0   0   0   0   0   0   0   0   0   0   0]\n",
      " [  0   0   0   0  55 172 226 253 253 253 253 244 133  11   0   0   0   0   0   0   0   0   0   0   0   0   0   0]\n",
      " [  0   0   0   0 136 253 253 253 212 135 132  16   0   0   0   0   0   0   0   0   0   0   0   0   0   0   0   0]\n",
      " [  0   0   0   0   0   0   0   0   0   0   0   0   0   0   0   0   0   0   0   0   0   0   0   0   0   0   0   0]\n",
      " [  0   0   0   0   0   0   0   0   0   0   0   0   0   0   0   0   0   0   0   0   0   0   0   0   0   0   0   0]\n",
      " [  0   0   0   0   0   0   0   0   0   0   0   0   0   0   0   0   0   0   0   0   0   0   0   0   0   0   0   0]]\n"
     ]
    },
    {
     "data": {
      "text/plain": [
       "<matplotlib.image.AxesImage at 0x1c099f66b80>"
      ]
     },
     "execution_count": 105,
     "metadata": {},
     "output_type": "execute_result"
    },
    {
     "data": {
      "image/png": "[encoded data removed]",
      "text/plain": [
       "<Figure size 432x288 with 1 Axes>"
      ]
     },
     "metadata": {
      "needs_background": "light"
     },
     "output_type": "display_data"
    }
   ],
   "source": [
    "#displaying an image\n",
    "index = 0 #any number between 0-59999, it will visualise that image\n",
    "np.set_printoptions(linewidth=320)\n",
    "\n",
    "#print the label and the image\n",
    "print(f'LABEL: {training_labels[index]}')\n",
    "print(f'\\nIMAGE PIXEL ARRAY:\\n {training_images[index]}')\n",
    "\n",
    "# Visualize the image\n",
    "plt.imshow(training_images[index])"
   ]
  },
  {
   "cell_type": "markdown",
   "id": "f75fcc48",
   "metadata": {},
   "source": [
    "We can see that the above digit is indeed a number 5"
   ]
  },
  {
   "cell_type": "code",
   "execution_count": 106,
   "id": "4d390dfc",
   "metadata": {},
   "outputs": [],
   "source": [
    "#normalising the images for better performance of the CNN\n",
    "\n",
    "training_images = training_images / 255.0\n",
    "test_images = test_images / 255.0"
   ]
  },
  {
   "cell_type": "code",
   "execution_count": 107,
   "id": "1308b12d",
   "metadata": {},
   "outputs": [],
   "source": [
    "#Building the model\n",
    "model = keras.Sequential([\n",
    "    keras.layers.Flatten(input_shape=(28,28)),\n",
    "    keras.layers.Dense(128, activation=tf.nn.relu),\n",
    "    keras.layers.Dense(128, activation=tf.nn.relu),\n",
    "    keras.layers.Dense(128, activation=tf.nn.relu),\n",
    "    keras.layers.Dense(128, activation=tf.nn.relu),\n",
    "    keras.layers.Dense(128, activation=tf.nn.relu),\n",
    "    keras.layers.Dense(10, activation=tf.nn.softmax)\n",
    "])"
   ]
  },
  {
   "cell_type": "code",
   "execution_count": 108,
   "id": "5acc9588",
   "metadata": {},
   "outputs": [
    {
     "name": "stdout",
     "output_type": "stream",
     "text": [
      "Epoch 1/10\n",
      "1313/1313 [==============================] - 4s 3ms/step - loss: 0.2805 - acc: 0.9135 - val_loss: 0.1504 - val_acc: 0.9544\n",
      "Epoch 2/10\n",
      "1313/1313 [==============================] - 3s 2ms/step - loss: 0.1236 - acc: 0.9630 - val_loss: 0.1300 - val_acc: 0.9607\n",
      "Epoch 3/10\n",
      "1313/1313 [==============================] - 3s 2ms/step - loss: 0.0924 - acc: 0.9719 - val_loss: 0.1147 - val_acc: 0.9662\n",
      "Epoch 4/10\n",
      "1313/1313 [==============================] - 4s 3ms/step - loss: 0.0712 - acc: 0.9792 - val_loss: 0.1153 - val_acc: 0.9672\n",
      "Epoch 5/10\n",
      "1313/1313 [==============================] - 5s 3ms/step - loss: 0.0600 - acc: 0.9815 - val_loss: 0.1110 - val_acc: 0.9689\n",
      "Epoch 6/10\n",
      "1313/1313 [==============================] - 8s 6ms/step - loss: 0.0541 - acc: 0.9846 - val_loss: 0.1138 - val_acc: 0.9697\n",
      "Epoch 7/10\n",
      "1313/1313 [==============================] - 8s 6ms/step - loss: 0.0457 - acc: 0.9857 - val_loss: 0.1244 - val_acc: 0.9664\n",
      "Epoch 8/10\n",
      "1313/1313 [==============================] - 8s 6ms/step - loss: 0.0406 - acc: 0.9874 - val_loss: 0.1189 - val_acc: 0.9708\n",
      "Epoch 9/10\n",
      "1313/1313 [==============================] - 7s 6ms/step - loss: 0.0340 - acc: 0.9891 - val_loss: 0.1533 - val_acc: 0.9683\n",
      "Epoch 10/10\n",
      "1313/1313 [==============================] - 8s 6ms/step - loss: 0.0297 - acc: 0.9907 - val_loss: 0.1470 - val_acc: 0.9663\n"
     ]
    }
   ],
   "source": [
    "#compilation and fitting of the model\n",
    "model.compile(optimizer=tf.optimizers.Adam(), loss = \"sparse_categorical_crossentropy\", metrics=['acc'])\n",
    "hist = model.fit(training_images, training_labels, validation_split=0.3,epochs=10)"
   ]
  },
  {
   "cell_type": "code",
   "execution_count": 109,
   "id": "ce746eb9",
   "metadata": {},
   "outputs": [
    {
     "name": "stdout",
     "output_type": "stream",
     "text": [
      "313/313 [==============================] - 0s 1ms/step - loss: 0.1223 - acc: 0.9712\n"
     ]
    },
    {
     "data": {
      "text/plain": [
       "[0.12225045263767242, 0.9711999893188477]"
      ]
     },
     "execution_count": 109,
     "metadata": {},
     "output_type": "execute_result"
    }
   ],
   "source": [
    "#testing the model on the test data\n",
    "model.evaluate(test_images, test_labels)"
   ]
  },
  {
   "cell_type": "markdown",
   "id": "e33feb44",
   "metadata": {},
   "source": [
    "The results thus show there is a slight overfitting"
   ]
  },
  {
   "cell_type": "code",
   "execution_count": 110,
   "id": "c4553bf4",
   "metadata": {
    "scrolled": true
   },
   "outputs": [
    {
     "data": {
      "image/png": "[encoded data removed]",
      "text/plain": [
       "<Figure size 432x288 with 1 Axes>"
      ]
     },
     "metadata": {
      "needs_background": "light"
     },
     "output_type": "display_data"
    }
   ],
   "source": [
    "#visualisation of model accuracy and loss\n",
    "\n",
    "plt.plot(hist.history['acc'])\n",
    "plt.plot(hist.history['val_acc'])\n",
    "plt.title('Model Accuracy')\n",
    "plt.ylabel('accuracy')\n",
    "plt.xlabel('epochs')\n",
    "plt.legend(['training', 'validation'], loc = 'upper left')\n",
    "plt.show()"
   ]
  },
  {
   "cell_type": "code",
   "execution_count": 111,
   "id": "5f94930b",
   "metadata": {},
   "outputs": [
    {
     "data": {
      "image/png": "[encoded data removed]",
      "text/plain": [
       "<Figure size 432x288 with 1 Axes>"
      ]
     },
     "metadata": {
      "needs_background": "light"
     },
     "output_type": "display_data"
    }
   ],
   "source": [
    "plt.plot(hist.history['loss'])\n",
    "plt.plot(hist.history['val_loss'])\n",
    "plt.title('model loss')\n",
    "plt.ylabel('loss')\n",
    "plt.xlabel('epoch')\n",
    "plt.legend(['training', 'validation'], loc='upper left')\n",
    "plt.show()"
   ]
  },
  {
   "cell_type": "markdown",
   "id": "c52ae08a",
   "metadata": {},
   "source": [
    "Introducing L2 regularisation"
   ]
  },
  {
   "cell_type": "code",
   "execution_count": 112,
   "id": "eed8721c",
   "metadata": {},
   "outputs": [],
   "source": [
    "#Building the model\n",
    "model = keras.Sequential([\n",
    "    keras.layers.Flatten(input_shape=(28,28)),\n",
    "    keras.layers.Dense(128, activation=tf.nn.relu, \n",
    "                       kernel_regularizer=regularizers.l2(0.03),\n",
    "                      bias_regularizer=regularizers.l2(0.01),\n",
    "                      activity_regularizer=regularizers.l2(0.01)),\n",
    "    keras.layers.Dense(128, activation=tf.nn.relu),\n",
    "    keras.layers.Dense(128, activation=tf.nn.relu),\n",
    "    keras.layers.Dense(128, activation=tf.nn.relu),\n",
    "    keras.layers.Dense(128, activation=tf.nn.relu),\n",
    "    keras.layers.Dense(10, activation=tf.nn.softmax)\n",
    "])"
   ]
  },
  {
   "cell_type": "code",
   "execution_count": 113,
   "id": "3e0282fb",
   "metadata": {},
   "outputs": [
    {
     "name": "stdout",
     "output_type": "stream",
     "text": [
      "Model: \"sequential_13\"\n",
      "_________________________________________________________________\n",
      " Layer (type)                Output Shape              Param #   \n",
      "=================================================================\n",
      " flatten_19 (Flatten)        (None, 784)               0         \n",
      "                                                                 \n",
      " dense_78 (Dense)            (None, 128)               100480    \n",
      "                                                                 \n",
      " dense_79 (Dense)            (None, 128)               16512     \n",
      "                                                                 \n",
      " dense_80 (Dense)            (None, 128)               16512     \n",
      "                                                                 \n",
      " dense_81 (Dense)            (None, 128)               16512     \n",
      "                                                                 \n",
      " dense_82 (Dense)            (None, 128)               16512     \n",
      "                                                                 \n",
      " dense_83 (Dense)            (None, 10)                1290      \n",
      "                                                                 \n",
      "=================================================================\n",
      "Total params: 167,818\n",
      "Trainable params: 167,818\n",
      "Non-trainable params: 0\n",
      "_________________________________________________________________\n"
     ]
    }
   ],
   "source": [
    "model.summary()"
   ]
  },
  {
   "cell_type": "code",
   "execution_count": 114,
   "id": "31e3c95d",
   "metadata": {},
   "outputs": [
    {
     "name": "stdout",
     "output_type": "stream",
     "text": [
      "Epoch 1/10\n",
      "1313/1313 [==============================] - 8s 6ms/step - loss: 0.7323 - acc: 0.8868 - val_loss: 0.4555 - val_acc: 0.9214\n",
      "Epoch 2/10\n",
      "1313/1313 [==============================] - 7s 5ms/step - loss: 0.4054 - acc: 0.9317 - val_loss: 0.3814 - val_acc: 0.9365\n",
      "Epoch 3/10\n",
      "1313/1313 [==============================] - 9s 7ms/step - loss: 0.3788 - acc: 0.9371 - val_loss: 0.3856 - val_acc: 0.9296\n",
      "Epoch 4/10\n",
      "1313/1313 [==============================] - 9s 7ms/step - loss: 0.3586 - acc: 0.9402 - val_loss: 0.3538 - val_acc: 0.9399\n",
      "Epoch 5/10\n",
      "1313/1313 [==============================] - 9s 7ms/step - loss: 0.3437 - acc: 0.9420 - val_loss: 0.3305 - val_acc: 0.9488\n",
      "Epoch 6/10\n",
      "1313/1313 [==============================] - 9s 7ms/step - loss: 0.3347 - acc: 0.9455 - val_loss: 0.3227 - val_acc: 0.9488\n",
      "Epoch 7/10\n",
      "1313/1313 [==============================] - 9s 7ms/step - loss: 0.3247 - acc: 0.9449 - val_loss: 0.3288 - val_acc: 0.9461\n",
      "Epoch 8/10\n",
      "1313/1313 [==============================] - 9s 7ms/step - loss: 0.3249 - acc: 0.9485 - val_loss: 0.3648 - val_acc: 0.9361\n",
      "Epoch 9/10\n",
      "1313/1313 [==============================] - 10s 7ms/step - loss: 0.3193 - acc: 0.9468 - val_loss: 0.3187 - val_acc: 0.9484\n",
      "Epoch 10/10\n",
      "1313/1313 [==============================] - 9s 7ms/step - loss: 0.3133 - acc: 0.9490 - val_loss: 0.3190 - val_acc: 0.9446\n"
     ]
    }
   ],
   "source": [
    "#compilation and fitting of the model\n",
    "model.compile(optimizer=tf.optimizers.Adam(), loss = \"sparse_categorical_crossentropy\", metrics=['acc'])\n",
    "hist = model.fit(training_images, training_labels, validation_split=0.3,epochs=10)"
   ]
  },
  {
   "cell_type": "code",
   "execution_count": 115,
   "id": "c24e4234",
   "metadata": {},
   "outputs": [
    {
     "name": "stdout",
     "output_type": "stream",
     "text": [
      "313/313 [==============================] - 0s 1ms/step - loss: 0.3010 - acc: 0.9505\n"
     ]
    },
    {
     "data": {
      "text/plain": [
       "[0.3009975552558899, 0.9505000114440918]"
      ]
     },
     "execution_count": 115,
     "metadata": {},
     "output_type": "execute_result"
    }
   ],
   "source": [
    "#testing the model on the test data\n",
    "model.evaluate(test_images, test_labels)"
   ]
  },
  {
   "cell_type": "code",
   "execution_count": 116,
   "id": "a4877ca9",
   "metadata": {},
   "outputs": [
    {
     "data": {
      "image/png": "[encoded data removed]",
      "text/plain": [
       "<Figure size 432x288 with 1 Axes>"
      ]
     },
     "metadata": {
      "needs_background": "light"
     },
     "output_type": "display_data"
    }
   ],
   "source": [
    "#visualisation of model accuracy and loss\n",
    "\n",
    "plt.plot(hist.history['acc'])\n",
    "plt.plot(hist.history['val_acc'])\n",
    "plt.title('Model Accuracy')\n",
    "plt.ylabel('accuracy')\n",
    "plt.xlabel('epochs')\n",
    "plt.legend(['training', 'validation'], loc = 'upper left')\n",
    "plt.show()"
   ]
  },
  {
   "cell_type": "code",
   "execution_count": 117,
   "id": "fe1bf0bb",
   "metadata": {},
   "outputs": [
    {
     "data": {
      "image/png": "[encoded data removed]",
      "text/plain": [
       "<Figure size 432x288 with 1 Axes>"
      ]
     },
     "metadata": {
      "needs_background": "light"
     },
     "output_type": "display_data"
    }
   ],
   "source": [
    "plt.plot(hist.history['loss'])\n",
    "plt.plot(hist.history['val_loss'])\n",
    "plt.title('model loss')\n",
    "plt.ylabel('loss')\n",
    "plt.xlabel('epoch')\n",
    "plt.legend(['training', 'validation'], loc='upper left')\n",
    "plt.show()"
   ]
  },
  {
   "cell_type": "markdown",
   "id": "83dfc4e4",
   "metadata": {},
   "source": [
    "So we see, the performance has improved after using regularisers"
   ]
  },
  {
   "cell_type": "markdown",
   "id": "7242a8a0",
   "metadata": {},
   "source": [
    "Implementing callbacks, based on training accuracy"
   ]
  },
  {
   "cell_type": "code",
   "execution_count": 118,
   "id": "d0ffef55",
   "metadata": {},
   "outputs": [],
   "source": [
    "class myCallback(tf.keras.callbacks.Callback):\n",
    "    def on_epoch_end(self, epoch, logs={}):\n",
    "        if(logs.get('acc')>0.99):\n",
    "            print(\"Reached 99% accuracy so cancelling training\")\n",
    "            self.model.stop_training=True"
   ]
  },
  {
   "cell_type": "code",
   "execution_count": 119,
   "id": "bec6d4a1",
   "metadata": {},
   "outputs": [],
   "source": [
    "callbacks = myCallback()"
   ]
  },
  {
   "cell_type": "markdown",
   "id": "a56ec6c3",
   "metadata": {},
   "source": [
    "Now implementing the above network with early stopping"
   ]
  },
  {
   "cell_type": "code",
   "execution_count": 120,
   "id": "02849be1",
   "metadata": {},
   "outputs": [],
   "source": [
    "#Building the model\n",
    "model = keras.Sequential([\n",
    "    keras.layers.Flatten(input_shape=(28,28)),\n",
    "    keras.layers.Dense(128, activation=tf.nn.relu, \n",
    "                       kernel_regularizer=regularizers.l2(0.03),\n",
    "                      bias_regularizer=regularizers.l2(0.01),\n",
    "                      activity_regularizer=regularizers.l2(0.01)),\n",
    "    keras.layers.Dense(128, activation=tf.nn.relu),\n",
    "    keras.layers.Dense(128, activation=tf.nn.relu),\n",
    "    keras.layers.Dense(128, activation=tf.nn.relu),\n",
    "    keras.layers.Dense(128, activation=tf.nn.relu),\n",
    "    keras.layers.Dense(10, activation=tf.nn.softmax)\n",
    "])"
   ]
  },
  {
   "cell_type": "code",
   "execution_count": 121,
   "id": "dab359cb",
   "metadata": {},
   "outputs": [
    {
     "name": "stdout",
     "output_type": "stream",
     "text": [
      "Epoch 1/10\n",
      "1313/1313 [==============================] - 6s 4ms/step - loss: 0.7343 - acc: 0.8913 - val_loss: 0.4587 - val_acc: 0.9184\n",
      "Epoch 2/10\n",
      "1313/1313 [==============================] - 8s 6ms/step - loss: 0.4200 - acc: 0.9293 - val_loss: 0.3793 - val_acc: 0.9373\n",
      "Epoch 3/10\n",
      "1313/1313 [==============================] - 9s 7ms/step - loss: 0.3822 - acc: 0.9360 - val_loss: 0.4076 - val_acc: 0.9229\n",
      "Epoch 4/10\n",
      "1313/1313 [==============================] - 9s 7ms/step - loss: 0.3668 - acc: 0.9379 - val_loss: 0.3697 - val_acc: 0.9331\n",
      "Epoch 5/10\n",
      "1313/1313 [==============================] - 9s 7ms/step - loss: 0.3463 - acc: 0.9423 - val_loss: 0.3460 - val_acc: 0.9394\n",
      "Epoch 6/10\n",
      "1313/1313 [==============================] - 9s 7ms/step - loss: 0.3383 - acc: 0.9428 - val_loss: 0.3479 - val_acc: 0.9452\n",
      "Epoch 7/10\n",
      "1313/1313 [==============================] - 9s 7ms/step - loss: 0.3305 - acc: 0.9458 - val_loss: 0.3403 - val_acc: 0.9447\n",
      "Epoch 8/10\n",
      "1313/1313 [==============================] - 9s 7ms/step - loss: 0.3277 - acc: 0.9461 - val_loss: 0.3438 - val_acc: 0.9408\n",
      "Epoch 9/10\n",
      "1313/1313 [==============================] - 9s 7ms/step - loss: 0.3227 - acc: 0.9479 - val_loss: 0.3409 - val_acc: 0.9388\n",
      "Epoch 10/10\n",
      "1313/1313 [==============================] - 9s 7ms/step - loss: 0.3218 - acc: 0.9468 - val_loss: 0.3197 - val_acc: 0.9520\n"
     ]
    }
   ],
   "source": [
    "#compilation and fitting of the model\n",
    "model.compile(optimizer=tf.optimizers.Adam(), loss = \"sparse_categorical_crossentropy\", metrics=['acc'])\n",
    "hist = model.fit(training_images, training_labels, validation_split=0.3,epochs=10, callbacks=[callbacks])"
   ]
  },
  {
   "cell_type": "markdown",
   "id": "ddb2ab77",
   "metadata": {},
   "source": [
    "Plotting graphs of validation and accuracy"
   ]
  },
  {
   "cell_type": "code",
   "execution_count": 122,
   "id": "2710fca4",
   "metadata": {},
   "outputs": [
    {
     "name": "stdout",
     "output_type": "stream",
     "text": [
      "313/313 [==============================] - 0s 1ms/step - loss: 0.3023 - acc: 0.9558\n"
     ]
    },
    {
     "data": {
      "text/plain": [
       "[0.30234044790267944, 0.9557999968528748]"
      ]
     },
     "execution_count": 122,
     "metadata": {},
     "output_type": "execute_result"
    }
   ],
   "source": [
    "#testing the model on the test data\n",
    "model.evaluate(test_images, test_labels)"
   ]
  },
  {
   "cell_type": "code",
   "execution_count": 123,
   "id": "21156ad2",
   "metadata": {},
   "outputs": [
    {
     "data": {
      "image/png": "[encoded data removed]",
      "text/plain": [
       "<Figure size 432x288 with 1 Axes>"
      ]
     },
     "metadata": {
      "needs_background": "light"
     },
     "output_type": "display_data"
    }
   ],
   "source": [
    "#visualisation of model accuracy and loss\n",
    "\n",
    "plt.plot(hist.history['acc'])\n",
    "plt.plot(hist.history['val_acc'])\n",
    "plt.title('Model Accuracy')\n",
    "plt.ylabel('accuracy')\n",
    "plt.xlabel('epochs')\n",
    "plt.legend(['training', 'validation'], loc = 'upper left')\n",
    "plt.show()"
   ]
  },
  {
   "cell_type": "code",
   "execution_count": 124,
   "id": "716d5f9e",
   "metadata": {},
   "outputs": [
    {
     "data": {
      "image/png": "[encoded data removed]",
      "text/plain": [
       "<Figure size 432x288 with 1 Axes>"
      ]
     },
     "metadata": {
      "needs_background": "light"
     },
     "output_type": "display_data"
    }
   ],
   "source": [
    "plt.plot(hist.history['loss'])\n",
    "plt.plot(hist.history['val_loss'])\n",
    "plt.title('model loss')\n",
    "plt.ylabel('loss')\n",
    "plt.xlabel('epoch')\n",
    "plt.legend(['training', 'validation'], loc='upper left')\n",
    "plt.show()"
   ]
  },
  {
   "cell_type": "code",
   "execution_count": null,
   "id": "c63070d2",
   "metadata": {},
   "outputs": [],
   "source": []
  }
 ],
 "metadata": {
  "kernelspec": {
   "display_name": "Python 3",
   "language": "python",
   "name": "python3"
  },
  "language_info": {
   "codemirror_mode": {
    "name": "ipython",
    "version": 3
   },
   "file_extension": ".py",
   "mimetype": "text/x-python",
   "name": "python",
   "nbconvert_exporter": "python",
   "pygments_lexer": "ipython3",
   "version": "3.8.8"
  }
 },
 "nbformat": 4,
 "nbformat_minor": 5
}
